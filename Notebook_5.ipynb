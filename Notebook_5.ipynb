{
 "cells": [
  {
   "cell_type": "markdown",
   "id": "d67d8a66",
   "metadata": {},
   "source": [
    "# Programa Ingenias+ Data Science"
   ]
  },
  {
   "cell_type": "markdown",
   "id": "3a08244f",
   "metadata": {},
   "source": [
    "mo dijimos en clases anteriores, Python tiene implementadas muchas librerias para poder trabajar con datos. En la clase de hoy trabajaremos con una de ellas: `Numpy`."
   ]
  },
  {
   "cell_type": "markdown",
   "id": "0f9bee07",
   "metadata": {},
   "source": [
    "Antes de comenzar, vamos a hablar un poco de esta libreria o modulo.\n",
    "\n",
    "**Numpy** es una librería optimizada para realizar cálculos numéricos con vectores y matrices. A diferencia de otros lenguajes de programación, Python no posee en su estructura central la figura de matrices. Eso quiere decir que para poder trabajar con esta estructura de datos deberiamos trabajar con listas de listas. NumPy introduce el concepto de arrays o matrices."
   ]
  },
  {
   "cell_type": "markdown",
   "id": "49d703f1",
   "metadata": {},
   "source": [
    "Al ser de código abierto, `numpy` posee una documentación muy amplia que es **SIEMPRE RECOMENDABLE** consultar."
   ]
  },
  {
   "cell_type": "markdown",
   "id": "27ed5ebd",
   "metadata": {},
   "source": [
    "- [Documentacion NumPy](https://devdocs.io/numpy/)"
   ]
  },
  {
   "cell_type": "markdown",
   "id": "f2997211",
   "metadata": {},
   "source": [
    "## Clase 4: Introduccion a NumPy"
   ]
  },
  {
   "cell_type": "code",
   "execution_count": 5,
   "id": "cb12701c",
   "metadata": {},
   "outputs": [],
   "source": [
    "import numpy as np"
   ]
  },
  {
   "cell_type": "markdown",
   "id": "49f37c84",
   "metadata": {},
   "source": [
    "**1. Crear un arreglo de ceros de longitud 12**\n",
    "\n"
   ]
  },
  {
   "cell_type": "code",
   "execution_count": 6,
   "id": "e0fa5876",
   "metadata": {},
   "outputs": [
    {
     "name": "stdout",
     "output_type": "stream",
     "text": [
      "[0. 0. 0. 0. 0. 0. 0. 0. 0. 0. 0. 0.]\n"
     ]
    }
   ],
   "source": [
    "print(np.zeros(12))"
   ]
  },
  {
   "cell_type": "markdown",
   "id": "11120e49",
   "metadata": {},
   "source": [
    "**2.Crear un arreglo de longitud 10 con ceros en todas sus posiciones y un 10 en la posición número 5.**"
   ]
  },
  {
   "cell_type": "code",
   "execution_count": 7,
   "id": "24a9c889",
   "metadata": {},
   "outputs": [
    {
     "name": "stdout",
     "output_type": "stream",
     "text": [
      "[ 0.  0.  0.  0. 10.  0.  0.  0.  0.  0.]\n"
     ]
    }
   ],
   "source": [
    "w= np.zeros(10)\n",
    "w[4]=10\n",
    "print(w)"
   ]
  },
  {
   "cell_type": "markdown",
   "id": "c6f228d9",
   "metadata": {},
   "source": [
    "**3.Crear un arreglo que tenga los números del 10 al 49**"
   ]
  },
  {
   "cell_type": "code",
   "execution_count": 8,
   "id": "c4e1210c",
   "metadata": {},
   "outputs": [
    {
     "name": "stdout",
     "output_type": "stream",
     "text": [
      "[10 11 12 13 14 15 16 17 18 19 20 21 22 23 24 25 26 27 28 29 30 31 32 33\n",
      " 34 35 36 37 38 39 40 41 42 43 44 45 46 47 48 49]\n"
     ]
    }
   ],
   "source": [
    "print(np.arange(10,50))"
   ]
  },
  {
   "cell_type": "markdown",
   "id": "eaef5803",
   "metadata": {},
   "source": [
    "**4.Crear una arreglo 2d de shape (3, 3) que tenga los números del 0 al 8**"
   ]
  },
  {
   "cell_type": "code",
   "execution_count": 9,
   "id": "3b688276",
   "metadata": {},
   "outputs": [
    {
     "name": "stdout",
     "output_type": "stream",
     "text": [
      "[[0 1 2]\n",
      " [3 4 5]\n",
      " [6 7 8]]\n",
      "(3, 3)\n"
     ]
    }
   ],
   "source": [
    "a=np.arange(9).reshape((3,3))\n",
    "print(a)\n",
    "print(a.shape)"
   ]
  },
  {
   "cell_type": "code",
   "execution_count": 10,
   "id": "2856ca38",
   "metadata": {},
   "outputs": [
    {
     "name": "stdout",
     "output_type": "stream",
     "text": [
      "2\n"
     ]
    }
   ],
   "source": [
    "print(a.ndim)"
   ]
  },
  {
   "cell_type": "markdown",
   "id": "34512eff",
   "metadata": {},
   "source": [
    "**5. Crear un arreglo de números aleatorios de longitud 100 y obtener su media y varianza.**"
   ]
  },
  {
   "cell_type": "code",
   "execution_count": 11,
   "id": "ba918c79",
   "metadata": {},
   "outputs": [
    {
     "name": "stdout",
     "output_type": "stream",
     "text": [
      "[10 49 45 47 50  3 64 99 88 15 23 29 81 56 57  1 17 19 44 17  7 55 36 87\n",
      " 29 50 35 78  9 15 78 30 56 14 59 67 23 66 86 21 26 17  9 92  6 41 68 99\n",
      " 74  3 79 19 58 49 15 54 11  8  9 17 57 17 51 82 47 53 98 68 26 48 28 40\n",
      " 62 66 60 37 97 62 82 78 25 68 44 25 35 43 46 87  4 51 40 11 95 24 62 48\n",
      " 31 21 35  7]\n",
      "-----------------------------------------------------------\n",
      "44.3\n",
      "731.91\n"
     ]
    }
   ],
   "source": [
    "a = np.random.randint(0,100,100)\n",
    "print(a)\n",
    "print('-----------------------------------------------------------')\n",
    "print(np.mean(a))\n",
    "print(np.var(a))"
   ]
  },
  {
   "cell_type": "markdown",
   "id": "2558eb5f",
   "metadata": {},
   "source": [
    "**6. Calcular la media de un arreglo usando np.sum**\n"
   ]
  },
  {
   "cell_type": "code",
   "execution_count": 12,
   "id": "54dddf93",
   "metadata": {},
   "outputs": [
    {
     "name": "stdout",
     "output_type": "stream",
     "text": [
      "3.0\n"
     ]
    }
   ],
   "source": [
    "b = np.arange(7)\n",
    "print(np.sum(b)/b.size)\n"
   ]
  },
  {
   "cell_type": "markdown",
   "id": "92d018ce",
   "metadata": {},
   "source": [
    "**7. Calcular la varianza de un arreglo usando np.sum y np.mean**"
   ]
  },
  {
   "cell_type": "code",
   "execution_count": 13,
   "id": "336d3437",
   "metadata": {},
   "outputs": [
    {
     "name": "stdout",
     "output_type": "stream",
     "text": [
      "8.25\n",
      "8.25\n"
     ]
    }
   ],
   "source": [
    "c = np.arange(10)\n",
    "d = np.mean(c)\n",
    "e= c-d\n",
    "f=e**2\n",
    "g=np.sum(f)\n",
    "h=(c.size)\n",
    "varianza=g/h\n",
    "print(np.var(c))\n",
    "print(varianza)"
   ]
  },
  {
   "cell_type": "markdown",
   "id": "98794ec9",
   "metadata": {},
   "source": [
    "**8. Crear un array de números aleatorios usando np.random.randn.**"
   ]
  },
  {
   "cell_type": "code",
   "execution_count": 14,
   "id": "e0455cb7",
   "metadata": {},
   "outputs": [
    {
     "name": "stdout",
     "output_type": "stream",
     "text": [
      "[ 0.05994736 -0.69200117 -1.57333503  1.23800672  0.47834084 -0.03740615]\n"
     ]
    }
   ],
   "source": [
    "print(np.random.randn(6))"
   ]
  }
 ],
 "metadata": {
  "kernelspec": {
   "display_name": "Python 3 (ipykernel)",
   "language": "python",
   "name": "python3"
  },
  "language_info": {
   "codemirror_mode": {
    "name": "ipython",
    "version": 3
   },
   "file_extension": ".py",
   "mimetype": "text/x-python",
   "name": "python",
   "nbconvert_exporter": "python",
   "pygments_lexer": "ipython3",
   "version": "3.10.9"
  }
 },
 "nbformat": 4,
 "nbformat_minor": 5
}
